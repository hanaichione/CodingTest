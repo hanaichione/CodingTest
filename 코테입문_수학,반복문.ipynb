{
 "cells": [
  {
   "cell_type": "markdown",
   "id": "e077760c",
   "metadata": {},
   "source": [
    "# 직사각형을 주사위로 채우기"
   ]
  },
  {
   "cell_type": "code",
   "execution_count": 1,
   "id": "b9a396af",
   "metadata": {},
   "outputs": [],
   "source": [
    "def solution(box, n):\n",
    "    answer = 0\n",
    "    result = 1\n",
    "    for i in box:\n",
    "        result *= i//n\n",
    "    answer = result    \n",
    "    return answer"
   ]
  },
  {
   "cell_type": "code",
   "execution_count": 2,
   "id": "aebfdf94",
   "metadata": {},
   "outputs": [
    {
     "data": {
      "text/plain": [
       "12"
      ]
     },
     "execution_count": 2,
     "metadata": {},
     "output_type": "execute_result"
    }
   ],
   "source": [
    "box = [10, 8, 6]\n",
    "n = 3\n",
    "solution(box, n)"
   ]
  },
  {
   "cell_type": "markdown",
   "id": "f5d6c823",
   "metadata": {},
   "source": [
    "# 합성수 찾기"
   ]
  },
  {
   "cell_type": "code",
   "execution_count": 3,
   "id": "48ddd002",
   "metadata": {},
   "outputs": [],
   "source": [
    "def solution(n):\n",
    "    answer = 0\n",
    "    \n",
    "    for i in range(1, n+1): # n까지의 자연수 중\n",
    "        num = 0\n",
    "        for j in range(1, i+1):\n",
    "            if i%j == 0: # n 이하의 수로 나눴을 때 나누어 떨어지면\n",
    "                num += 1 # num에 1더함\n",
    "        if num>=3:       # 그러한 경우가 3번 이상이면\n",
    "            answer += 1  # 합성수이므로 정답에 추가\n",
    "            \n",
    "    return answer"
   ]
  },
  {
   "cell_type": "code",
   "execution_count": 4,
   "id": "2ba5233b",
   "metadata": {},
   "outputs": [
    {
     "data": {
      "text/plain": [
       "8"
      ]
     },
     "execution_count": 4,
     "metadata": {},
     "output_type": "execute_result"
    }
   ],
   "source": [
    "solution(15)"
   ]
  },
  {
   "cell_type": "markdown",
   "id": "496546af",
   "metadata": {},
   "source": [
    "# 곱해서 최댓값이 나오도록"
   ]
  },
  {
   "cell_type": "code",
   "execution_count": 5,
   "id": "80c2adf8",
   "metadata": {},
   "outputs": [],
   "source": [
    "def solution(numbers):\n",
    "    answer = 0\n",
    "    \n",
    "    numbers.sort()\n",
    "    answer = numbers[-1]*numbers[-2]\n",
    "    \n",
    "    return answer"
   ]
  },
  {
   "cell_type": "code",
   "execution_count": 6,
   "id": "e0376623",
   "metadata": {},
   "outputs": [
    {
     "data": {
      "text/plain": [
       "20"
      ]
     },
     "execution_count": 6,
     "metadata": {},
     "output_type": "execute_result"
    }
   ],
   "source": [
    "numbers = [1, 2, 3, 4, 5]\n",
    "solution(numbers)"
   ]
  },
  {
   "cell_type": "markdown",
   "id": "985a970e",
   "metadata": {},
   "source": [
    "# i! < n인 i를 찾기"
   ]
  },
  {
   "cell_type": "code",
   "execution_count": 7,
   "id": "70220bbd",
   "metadata": {},
   "outputs": [],
   "source": [
    "def solution(n):\n",
    "    answer = 0\n",
    "    \n",
    "    def factorial(n):\n",
    "        if n==1:\n",
    "            return 1\n",
    "        return n*factorial(n-1)\n",
    "    \n",
    "    for i in range(1, 12):\n",
    "        if factorial(i) > n:\n",
    "            return i-1"
   ]
  },
  {
   "cell_type": "code",
   "execution_count": 8,
   "id": "fb818bd1",
   "metadata": {
    "scrolled": true
   },
   "outputs": [
    {
     "data": {
      "text/plain": [
       "10"
      ]
     },
     "execution_count": 8,
     "metadata": {},
     "output_type": "execute_result"
    }
   ],
   "source": [
    "solution(3628800)"
   ]
  },
  {
   "cell_type": "markdown",
   "id": "4cd1b2c4",
   "metadata": {},
   "source": [
    "## Z를 만나면 직전에 더했던 숫자를 빼기"
   ]
  },
  {
   "cell_type": "code",
   "execution_count": 1,
   "id": "386e9bed",
   "metadata": {},
   "outputs": [],
   "source": [
    "def solution(s):\n",
    "    nums = s.split(\" \")\n",
    "    answer = int(nums[0])\n",
    "    for i in range(1, len(nums)):\n",
    "        if nums[i] != 'Z':\n",
    "            answer += int(nums[i])\n",
    "        else:\n",
    "            answer -= int(nums[i-1])\n",
    "    return answer"
   ]
  },
  {
   "cell_type": "code",
   "execution_count": 2,
   "id": "77c9e9bd",
   "metadata": {},
   "outputs": [
    {
     "name": "stdout",
     "output_type": "stream",
     "text": [
      "4\n",
      "100\n",
      "1\n",
      "0\n",
      "-3\n"
     ]
    }
   ],
   "source": [
    "s = [\"1 2 Z 3\", \"10 20 30 40\", \"10 Z 20 Z 1\", \"10 Z 20 Z\", \"-1 -2 -3 Z\"]\n",
    "for i in s:\n",
    "    print(solution(i))"
   ]
  },
  {
   "cell_type": "markdown",
   "id": "54c5ae9b",
   "metadata": {},
   "source": [
    "## 주어진 변의 길이를 이용해 삼각형을 만들 수 있는가?"
   ]
  },
  {
   "cell_type": "code",
   "execution_count": 3,
   "id": "30283382",
   "metadata": {},
   "outputs": [],
   "source": [
    "def solution(sides):\n",
    "    answer = 2\n",
    "    sides.sort()\n",
    "    if sides[2] < sides[0]+sides[1]:\n",
    "        answer = 1\n",
    "    return answer"
   ]
  },
  {
   "cell_type": "code",
   "execution_count": 4,
   "id": "74a3383a",
   "metadata": {
    "scrolled": true
   },
   "outputs": [
    {
     "name": "stdout",
     "output_type": "stream",
     "text": [
      "2\n",
      "2\n",
      "1\n"
     ]
    }
   ],
   "source": [
    "sides = [[1, 2, 3], [3, 6, 2], [199, 72, 222]]\n",
    "for i in sides:\n",
    "    print(solution(i))"
   ]
  },
  {
   "cell_type": "markdown",
   "id": "7b3d9b1a",
   "metadata": {},
   "source": [
    "## 가장 가까운 수"
   ]
  },
  {
   "cell_type": "code",
   "execution_count": 1,
   "id": "4f097e74",
   "metadata": {},
   "outputs": [],
   "source": [
    "def solution(array, n):\n",
    "    number = {}\n",
    "    array.sort()\n",
    "    for i in array:\n",
    "        number[i] = abs(n - i)\n",
    "    \n",
    "    for i, v in number.items():\n",
    "        if v == min(number.values()):\n",
    "            return i"
   ]
  },
  {
   "cell_type": "code",
   "execution_count": 5,
   "id": "490b58ba",
   "metadata": {},
   "outputs": [
    {
     "name": "stdout",
     "output_type": "stream",
     "text": [
      "28\n",
      "12\n",
      "8\n"
     ]
    }
   ],
   "source": [
    "arrays = {20:[3, 10, 28], 13:[10, 11, 12], 9:[3, 6, 8, 10]}\n",
    "for key, value in arrays.items():\n",
    "    print(solution(value, key))"
   ]
  },
  {
   "cell_type": "markdown",
   "id": "b690c88d",
   "metadata": {},
   "source": [
    "## 약수 구하기"
   ]
  },
  {
   "cell_type": "code",
   "execution_count": 6,
   "id": "b5546df6",
   "metadata": {},
   "outputs": [],
   "source": [
    "def solution(n):\n",
    "    answer = [i for i in range(1, n+1) if n%i == 0]\n",
    "    \n",
    "    return answer"
   ]
  },
  {
   "cell_type": "code",
   "execution_count": 7,
   "id": "3d3f66aa",
   "metadata": {
    "scrolled": true
   },
   "outputs": [
    {
     "name": "stdout",
     "output_type": "stream",
     "text": [
      "[1, 2, 3, 4, 6, 8, 12, 24]\n",
      "[1, 29]\n"
     ]
    }
   ],
   "source": [
    "nums = [24, 29]\n",
    "for num in nums:\n",
    "    print(solution(num))"
   ]
  },
  {
   "cell_type": "markdown",
   "id": "4a660eb4",
   "metadata": {},
   "source": [
    "## 가장 큰 수 찾기"
   ]
  },
  {
   "cell_type": "code",
   "execution_count": 1,
   "id": "7d0fb01f",
   "metadata": {},
   "outputs": [],
   "source": [
    "def solution(array):\n",
    "    answer = [max(array), array.index(max(array))]\n",
    "    return answer"
   ]
  },
  {
   "cell_type": "code",
   "execution_count": 2,
   "id": "fdcdd4ea",
   "metadata": {},
   "outputs": [
    {
     "name": "stdout",
     "output_type": "stream",
     "text": [
      "[8, 1]\n",
      "[11, 2]\n"
     ]
    }
   ],
   "source": [
    "arrays = [[1, 8, 3], [9, 10, 11, 8]]\n",
    "for array in arrays:\n",
    "    print(solution(array))"
   ]
  },
  {
   "cell_type": "markdown",
   "id": "56dfdbda",
   "metadata": {},
   "source": [
    "## 문자열 수식 계산하기"
   ]
  },
  {
   "cell_type": "code",
   "execution_count": 3,
   "id": "5901ea8f",
   "metadata": {},
   "outputs": [],
   "source": [
    "def solution(my_string):\n",
    "    arr = my_string.split(\" \")\n",
    "    answer = int(arr[0])\n",
    "    \n",
    "    for i in range(1, len(arr)-1, 2):\n",
    "        if arr[i] == '+':\n",
    "            answer += int(arr[i+1])\n",
    "        else:\n",
    "            answer -= int(arr[i+1])\n",
    "    \n",
    "    return answer"
   ]
  },
  {
   "cell_type": "code",
   "execution_count": 4,
   "id": "115e5540",
   "metadata": {},
   "outputs": [
    {
     "data": {
      "text/plain": [
       "7"
      ]
     },
     "execution_count": 4,
     "metadata": {},
     "output_type": "execute_result"
    }
   ],
   "source": [
    "my_string = \"3 + 4\"\n",
    "solution(my_string)"
   ]
  },
  {
   "cell_type": "code",
   "execution_count": null,
   "id": "52a129c4",
   "metadata": {},
   "outputs": [],
   "source": []
  }
 ],
 "metadata": {
  "kernelspec": {
   "display_name": "Python 3 (ipykernel)",
   "language": "python",
   "name": "python3"
  },
  "language_info": {
   "codemirror_mode": {
    "name": "ipython",
    "version": 3
   },
   "file_extension": ".py",
   "mimetype": "text/x-python",
   "name": "python",
   "nbconvert_exporter": "python",
   "pygments_lexer": "ipython3",
   "version": "3.9.12"
  }
 },
 "nbformat": 4,
 "nbformat_minor": 5
}
