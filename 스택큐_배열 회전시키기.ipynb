{
 "cells": [
  {
   "cell_type": "markdown",
   "id": "7fc2912a",
   "metadata": {},
   "source": [
    "# 배열 회전시키기\n",
    "\n",
    "### 정수가 담긴 배열 numbers와 문자열 direction가 매개변수로 주어질 때 배열 numbers의 원소를 direction방향으로 한 칸씩 회전시킨 배열을 return하도록 solution 함수를 완성하라."
   ]
  },
  {
   "cell_type": "code",
   "execution_count": 1,
   "id": "7651370a",
   "metadata": {},
   "outputs": [],
   "source": [
    "from collections import deque\n",
    "\n",
    "def solution(numbers, direction):\n",
    "    answer = []\n",
    "    que = deque(numbers)\n",
    "    \n",
    "    if direction == 'right':\n",
    "        que.appendleft(numbers[-1]) # 큐 왼쪽(첫번째 자리)에 numbers 마지막 자리 값 추가 : [3, 1, 2, 3]\n",
    "        que.pop()                   # 마지막 자리 값 삭제 : [3, 1, 2]\n",
    "        answer = list(que)          # 큐를 리스트로 변환\n",
    "    else :\n",
    "        numbers.append(numbers[0])  # 배열 마지막 자리에 numbers의 첫번째 자리 값 추가 : [1, 2, 3, 1]\n",
    "        answer = numbers[1:]        # 첫번째 자리를 제외하고 인덱싱 : [2, 3, 1]\n",
    "        \n",
    "    return answer\n",
    "\n",
    "# from collections import deque     # que의 rotate 메소드를 이용한 풀이\n",
    "# def solution(numbers, direction):\n",
    "#     answer = []\n",
    "#     q = deque(numbers)\n",
    "#     if direction ==  'right':\n",
    "#         q.rotate(1)\n",
    "#     else:\n",
    "#         q.rotate(-1)\n",
    "#     for i in q:\n",
    "#         answer.append(i)\n",
    "\n",
    "#     return answer"
   ]
  },
  {
   "cell_type": "code",
   "execution_count": 2,
   "id": "cac97494",
   "metadata": {},
   "outputs": [
    {
     "data": {
      "text/plain": [
       "[3, 1, 2]"
      ]
     },
     "execution_count": 2,
     "metadata": {},
     "output_type": "execute_result"
    }
   ],
   "source": [
    "numbers, direction = [1, 2, 3], 'right'\n",
    "solution(numbers, direction)"
   ]
  },
  {
   "cell_type": "code",
   "execution_count": 3,
   "id": "99a72b37",
   "metadata": {},
   "outputs": [
    {
     "data": {
      "text/plain": [
       "[455, 6, 4, -1, 45, 6, 4]"
      ]
     },
     "execution_count": 3,
     "metadata": {},
     "output_type": "execute_result"
    }
   ],
   "source": [
    "numbers, direction = [4, 455, 6, 4, -1, 45, 6], 'left'\n",
    "solution(numbers, direction)"
   ]
  }
 ],
 "metadata": {
  "kernelspec": {
   "display_name": "Python 3 (ipykernel)",
   "language": "python",
   "name": "python3"
  },
  "language_info": {
   "codemirror_mode": {
    "name": "ipython",
    "version": 3
   },
   "file_extension": ".py",
   "mimetype": "text/x-python",
   "name": "python",
   "nbconvert_exporter": "python",
   "pygments_lexer": "ipython3",
   "version": "3.9.12"
  }
 },
 "nbformat": 4,
 "nbformat_minor": 5
}
