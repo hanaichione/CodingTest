{
 "cells": [
  {
   "cell_type": "markdown",
   "id": "1bc26263",
   "metadata": {},
   "source": [
    "## 문자열 뒤집기"
   ]
  },
  {
   "cell_type": "code",
   "execution_count": 4,
   "id": "63a7189e",
   "metadata": {},
   "outputs": [],
   "source": [
    "def solution(my_string):\n",
    "    answer = ''\n",
    "    \n",
    "    str1 = [i for i in reversed(my_string)]\n",
    "    answer = \"\".join(str1)\n",
    "    \n",
    "    return answer"
   ]
  },
  {
   "cell_type": "code",
   "execution_count": 5,
   "id": "6409cb99",
   "metadata": {},
   "outputs": [
    {
     "name": "stdout",
     "output_type": "stream",
     "text": [
      "noraj\n"
     ]
    }
   ],
   "source": [
    "my_string = \"jaron\"\n",
    "print(solution(my_string))"
   ]
  },
  {
   "cell_type": "markdown",
   "id": "f6e1a7d9",
   "metadata": {},
   "source": [
    "## *로 직각 삼각형 만들기"
   ]
  },
  {
   "cell_type": "code",
   "execution_count": 6,
   "id": "c93c4a3b",
   "metadata": {},
   "outputs": [
    {
     "name": "stdout",
     "output_type": "stream",
     "text": [
      "5\n",
      "*\n",
      "**\n",
      "***\n",
      "****\n",
      "*****\n"
     ]
    }
   ],
   "source": [
    "n = int(input())\n",
    "\n",
    "for i in range(n):\n",
    "    for j in range(i+1):\n",
    "        print(\"*\", end=\"\")\n",
    "    print()"
   ]
  },
  {
   "cell_type": "markdown",
   "id": "2819350f",
   "metadata": {},
   "source": [
    "## 문자 반복 출력하기"
   ]
  },
  {
   "cell_type": "code",
   "execution_count": 13,
   "id": "2623c472",
   "metadata": {},
   "outputs": [],
   "source": [
    "def solution(my_string, n):\n",
    "    answer = ''\n",
    "    str1 = []\n",
    "    \n",
    "    for i in my_string:\n",
    "        str1.append(i*n)\n",
    "    \n",
    "    answer = \"\".join(str1)\n",
    "    \n",
    "    return answer"
   ]
  },
  {
   "cell_type": "code",
   "execution_count": 14,
   "id": "d7ee16d1",
   "metadata": {},
   "outputs": [
    {
     "data": {
      "text/plain": [
       "'hhheeellllllooo'"
      ]
     },
     "execution_count": 14,
     "metadata": {},
     "output_type": "execute_result"
    }
   ],
   "source": [
    "my_string = \"hello\"\n",
    "solution(my_string, 3)"
   ]
  },
  {
   "cell_type": "markdown",
   "id": "956b07f8",
   "metadata": {},
   "source": [
    "## 특정 문자 제거하기"
   ]
  },
  {
   "cell_type": "code",
   "execution_count": 10,
   "id": "d941dc9d",
   "metadata": {},
   "outputs": [],
   "source": [
    "def solution(my_string, letter):\n",
    "    answer = my_string.replace(letter, '')\n",
    "    \n",
    "    return answer"
   ]
  },
  {
   "cell_type": "code",
   "execution_count": 11,
   "id": "eebcc05c",
   "metadata": {},
   "outputs": [
    {
     "data": {
      "text/plain": [
       "'abcdenglish'"
      ]
     },
     "execution_count": 11,
     "metadata": {},
     "output_type": "execute_result"
    }
   ],
   "source": [
    "my_string, letter = \"abcdeffnglish\", \"f\"\n",
    "solution(my_string, letter)"
   ]
  },
  {
   "cell_type": "markdown",
   "id": "e13140ad",
   "metadata": {},
   "source": [
    "## 영어를 숫자로 바꾸기"
   ]
  },
  {
   "cell_type": "code",
   "execution_count": 15,
   "id": "e8c2ebff",
   "metadata": {},
   "outputs": [],
   "source": [
    "def solution(numbers):\n",
    "    \n",
    "    str1 = [\"zero\", \"one\", \"two\", \"three\", \"four\", \"five\", \"six\", \"seven\", \"eight\", \"nine\"]\n",
    "    for i, v in enumerate(str1):\n",
    "        numbers = numbers.replace(v, str(i))\n",
    "    \n",
    "    return int(numbers)"
   ]
  },
  {
   "cell_type": "code",
   "execution_count": 16,
   "id": "c1c81251",
   "metadata": {
    "scrolled": true
   },
   "outputs": [
    {
     "data": {
      "text/plain": [
       "123456789"
      ]
     },
     "execution_count": 16,
     "metadata": {},
     "output_type": "execute_result"
    }
   ],
   "source": [
    "numbers = \"onetwothreefourfivesixseveneightnine\"\n",
    "solution(numbers)"
   ]
  },
  {
   "cell_type": "markdown",
   "id": "de7afe87",
   "metadata": {},
   "source": [
    "## 아스키코드 이용하여 숫자를 문자로 바꾸기"
   ]
  },
  {
   "cell_type": "code",
   "execution_count": 1,
   "id": "4881a920",
   "metadata": {},
   "outputs": [],
   "source": [
    "def solution(age):\n",
    "    answer = ''\n",
    "    \n",
    "    strAge = str(age)\n",
    "        \n",
    "    for i in strAge:\n",
    "        answer += chr(int(i) + 97)\n",
    "    \n",
    "    return answer"
   ]
  },
  {
   "cell_type": "code",
   "execution_count": 2,
   "id": "d52ca7e8",
   "metadata": {
    "scrolled": false
   },
   "outputs": [
    {
     "name": "stdout",
     "output_type": "stream",
     "text": [
      "cd\n",
      "fb\n",
      "baa\n"
     ]
    }
   ],
   "source": [
    "age = [23, 51, 100]\n",
    "for i in age:\n",
    "    print(solution(i))"
   ]
  },
  {
   "cell_type": "markdown",
   "id": "27b7146d",
   "metadata": {},
   "source": [
    "## 문자열에서 숫자만 골라내기"
   ]
  },
  {
   "cell_type": "code",
   "execution_count": 5,
   "id": "4ef04664",
   "metadata": {},
   "outputs": [],
   "source": [
    "def solution(my_string):\n",
    "    answer = []\n",
    "    \n",
    "    #97-122\n",
    "    \n",
    "    for i in my_string:\n",
    "        if i >= 'a' and i <= 'z':\n",
    "            continue\n",
    "        else:\n",
    "            answer.append(int(i))\n",
    "            \n",
    "    answer.sort()\n",
    "    \n",
    "    return answer"
   ]
  },
  {
   "cell_type": "code",
   "execution_count": 6,
   "id": "d735a645",
   "metadata": {},
   "outputs": [
    {
     "data": {
      "text/plain": [
       "[1, 2, 2, 3, 9]"
      ]
     },
     "execution_count": 6,
     "metadata": {},
     "output_type": "execute_result"
    }
   ],
   "source": [
    "my_string = \"hi12392\"\n",
    "solution(my_string)"
   ]
  },
  {
   "cell_type": "markdown",
   "id": "22b40574",
   "metadata": {},
   "source": [
    "## 문자열에서 숫자만 골라내어 더하기"
   ]
  },
  {
   "cell_type": "code",
   "execution_count": 12,
   "id": "181b1331",
   "metadata": {},
   "outputs": [],
   "source": [
    "def solution(my_string):\n",
    "    answer = 0\n",
    "    \n",
    "    for i in my_string:\n",
    "        if (i < 'A' or i > 'Z') and (i < 'a' or i > 'z'):\n",
    "            answer += int(i)\n",
    "    \n",
    "    return answer"
   ]
  },
  {
   "cell_type": "code",
   "execution_count": 13,
   "id": "c4c596fc",
   "metadata": {},
   "outputs": [
    {
     "data": {
      "text/plain": [
       "17"
      ]
     },
     "execution_count": 13,
     "metadata": {},
     "output_type": "execute_result"
    }
   ],
   "source": [
    "my_string = \"hi12392\"\n",
    "solution(my_string)"
   ]
  },
  {
   "cell_type": "markdown",
   "id": "808db8d8",
   "metadata": {},
   "source": [
    "## 문자열에서 모음 제거하기"
   ]
  },
  {
   "cell_type": "code",
   "execution_count": 7,
   "id": "8abebbfb",
   "metadata": {},
   "outputs": [],
   "source": [
    "def solution(my_string):\n",
    "    answer = ''\n",
    "    collections = [\"a\", \"e\", \"i\", \"o\", \"u\"]\n",
    "    \n",
    "    for i in my_string:\n",
    "        \n",
    "        if i not in collections:\n",
    "            answer += i\n",
    "    \n",
    "    return answer"
   ]
  },
  {
   "cell_type": "code",
   "execution_count": 8,
   "id": "a34a9b15",
   "metadata": {},
   "outputs": [
    {
     "data": {
      "text/plain": [
       "'nc t mt y'"
      ]
     },
     "execution_count": 8,
     "metadata": {},
     "output_type": "execute_result"
    }
   ],
   "source": [
    "my_string = \"nice to meet you\"\n",
    "solution(my_string)"
   ]
  }
 ],
 "metadata": {
  "kernelspec": {
   "display_name": "Python 3 (ipykernel)",
   "language": "python",
   "name": "python3"
  },
  "language_info": {
   "codemirror_mode": {
    "name": "ipython",
    "version": 3
   },
   "file_extension": ".py",
   "mimetype": "text/x-python",
   "name": "python",
   "nbconvert_exporter": "python",
   "pygments_lexer": "ipython3",
   "version": "3.9.12"
  }
 },
 "nbformat": 4,
 "nbformat_minor": 5
}
