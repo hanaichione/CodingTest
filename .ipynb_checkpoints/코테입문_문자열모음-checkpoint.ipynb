{
 "cells": [
  {
   "cell_type": "markdown",
   "id": "1bc26263",
   "metadata": {},
   "source": [
    "## 문자열 뒤집기"
   ]
  },
  {
   "cell_type": "code",
   "execution_count": 4,
   "id": "63a7189e",
   "metadata": {},
   "outputs": [],
   "source": [
    "def solution(my_string):\n",
    "    answer = ''\n",
    "    \n",
    "    str1 = [i for i in reversed(my_string)]\n",
    "    answer = \"\".join(str1)\n",
    "    \n",
    "    return answer"
   ]
  },
  {
   "cell_type": "code",
   "execution_count": 5,
   "id": "6409cb99",
   "metadata": {},
   "outputs": [
    {
     "name": "stdout",
     "output_type": "stream",
     "text": [
      "noraj\n"
     ]
    }
   ],
   "source": [
    "my_string = \"jaron\"\n",
    "print(solution(my_string))"
   ]
  },
  {
   "cell_type": "markdown",
   "id": "f6e1a7d9",
   "metadata": {},
   "source": [
    "## *로 직각 삼각형 만들기"
   ]
  },
  {
   "cell_type": "code",
   "execution_count": 6,
   "id": "c93c4a3b",
   "metadata": {},
   "outputs": [
    {
     "name": "stdout",
     "output_type": "stream",
     "text": [
      "5\n",
      "*\n",
      "**\n",
      "***\n",
      "****\n",
      "*****\n"
     ]
    }
   ],
   "source": [
    "n = int(input())\n",
    "\n",
    "for i in range(n):\n",
    "    for j in range(i+1):\n",
    "        print(\"*\", end=\"\")\n",
    "    print()"
   ]
  },
  {
   "cell_type": "markdown",
   "id": "2819350f",
   "metadata": {},
   "source": [
    "## 문자 반복 출력하기"
   ]
  },
  {
   "cell_type": "code",
   "execution_count": 13,
   "id": "2623c472",
   "metadata": {},
   "outputs": [],
   "source": [
    "def solution(my_string, n):\n",
    "    answer = ''\n",
    "    str1 = []\n",
    "    \n",
    "    for i in my_string:\n",
    "        str1.append(i*n)\n",
    "    \n",
    "    answer = \"\".join(str1)\n",
    "    \n",
    "    return answer"
   ]
  },
  {
   "cell_type": "code",
   "execution_count": 14,
   "id": "d7ee16d1",
   "metadata": {},
   "outputs": [
    {
     "data": {
      "text/plain": [
       "'hhheeellllllooo'"
      ]
     },
     "execution_count": 14,
     "metadata": {},
     "output_type": "execute_result"
    }
   ],
   "source": [
    "my_string = \"hello\"\n",
    "solution(my_string, 3)"
   ]
  },
  {
   "cell_type": "markdown",
   "id": "956b07f8",
   "metadata": {},
   "source": [
    "## 특정 문자 제거하기"
   ]
  },
  {
   "cell_type": "code",
   "execution_count": 10,
   "id": "d941dc9d",
   "metadata": {},
   "outputs": [],
   "source": [
    "def solution(my_string, letter):\n",
    "    answer = my_string.replace(letter, '')\n",
    "    \n",
    "    return answer"
   ]
  },
  {
   "cell_type": "code",
   "execution_count": 11,
   "id": "eebcc05c",
   "metadata": {},
   "outputs": [
    {
     "data": {
      "text/plain": [
       "'abcdenglish'"
      ]
     },
     "execution_count": 11,
     "metadata": {},
     "output_type": "execute_result"
    }
   ],
   "source": [
    "my_string, letter = \"abcdeffnglish\", \"f\"\n",
    "solution(my_string, letter)"
   ]
  },
  {
   "cell_type": "markdown",
   "id": "e13140ad",
   "metadata": {},
   "source": [
    "## 영어를 숫자로 바꾸기"
   ]
  },
  {
   "cell_type": "code",
   "execution_count": 15,
   "id": "e8c2ebff",
   "metadata": {},
   "outputs": [],
   "source": [
    "def solution(numbers):\n",
    "    \n",
    "    str1 = [\"zero\", \"one\", \"two\", \"three\", \"four\", \"five\", \"six\", \"seven\", \"eight\", \"nine\"]\n",
    "    for i, v in enumerate(str1):\n",
    "        numbers = numbers.replace(v, str(i))\n",
    "    \n",
    "    return int(numbers)"
   ]
  },
  {
   "cell_type": "code",
   "execution_count": 16,
   "id": "c1c81251",
   "metadata": {
    "scrolled": true
   },
   "outputs": [
    {
     "data": {
      "text/plain": [
       "123456789"
      ]
     },
     "execution_count": 16,
     "metadata": {},
     "output_type": "execute_result"
    }
   ],
   "source": [
    "numbers = \"onetwothreefourfivesixseveneightnine\"\n",
    "solution(numbers)"
   ]
  },
  {
   "cell_type": "markdown",
   "id": "de7afe87",
   "metadata": {},
   "source": [
    "## 아스키코드 이용하여 숫자를 문자로 바꾸기"
   ]
  },
  {
   "cell_type": "code",
   "execution_count": 1,
   "id": "4881a920",
   "metadata": {},
   "outputs": [],
   "source": [
    "def solution(age):\n",
    "    answer = ''\n",
    "    \n",
    "    strAge = str(age)\n",
    "        \n",
    "    for i in strAge:\n",
    "        answer += chr(int(i) + 97)\n",
    "    \n",
    "    return answer"
   ]
  },
  {
   "cell_type": "code",
   "execution_count": 2,
   "id": "d52ca7e8",
   "metadata": {
    "scrolled": false
   },
   "outputs": [
    {
     "name": "stdout",
     "output_type": "stream",
     "text": [
      "cd\n",
      "fb\n",
      "baa\n"
     ]
    }
   ],
   "source": [
    "age = [23, 51, 100]\n",
    "for i in age:\n",
    "    print(solution(i))"
   ]
  },
  {
   "cell_type": "markdown",
   "id": "27b7146d",
   "metadata": {},
   "source": [
    "## 문자열에서 숫자만 골라내기"
   ]
  },
  {
   "cell_type": "code",
   "execution_count": 5,
   "id": "4ef04664",
   "metadata": {},
   "outputs": [],
   "source": [
    "def solution(my_string):\n",
    "    answer = []\n",
    "    \n",
    "    #97-122\n",
    "    \n",
    "    for i in my_string:\n",
    "        if i >= 'a' and i <= 'z':\n",
    "            continue\n",
    "        else:\n",
    "            answer.append(int(i))\n",
    "            \n",
    "    answer.sort()\n",
    "    \n",
    "    return answer"
   ]
  },
  {
   "cell_type": "code",
   "execution_count": 6,
   "id": "d735a645",
   "metadata": {},
   "outputs": [
    {
     "data": {
      "text/plain": [
       "[1, 2, 2, 3, 9]"
      ]
     },
     "execution_count": 6,
     "metadata": {},
     "output_type": "execute_result"
    }
   ],
   "source": [
    "my_string = \"hi12392\"\n",
    "solution(my_string)"
   ]
  },
  {
   "cell_type": "markdown",
   "id": "22b40574",
   "metadata": {},
   "source": [
    "## 문자열에서 숫자만 골라내어 더하기"
   ]
  },
  {
   "cell_type": "code",
   "execution_count": 12,
   "id": "181b1331",
   "metadata": {},
   "outputs": [],
   "source": [
    "def solution(my_string):\n",
    "    answer = 0\n",
    "    \n",
    "    for i in my_string:\n",
    "        if (i < 'A' or i > 'Z') and (i < 'a' or i > 'z'):\n",
    "            answer += int(i)\n",
    "    \n",
    "    return answer"
   ]
  },
  {
   "cell_type": "code",
   "execution_count": 13,
   "id": "c4c596fc",
   "metadata": {},
   "outputs": [
    {
     "data": {
      "text/plain": [
       "17"
      ]
     },
     "execution_count": 13,
     "metadata": {},
     "output_type": "execute_result"
    }
   ],
   "source": [
    "my_string = \"hi12392\"\n",
    "solution(my_string)"
   ]
  },
  {
   "cell_type": "markdown",
   "id": "808db8d8",
   "metadata": {},
   "source": [
    "## 문자열에서 모음 제거하기"
   ]
  },
  {
   "cell_type": "code",
   "execution_count": 7,
   "id": "8abebbfb",
   "metadata": {},
   "outputs": [],
   "source": [
    "def solution(my_string):\n",
    "    answer = ''\n",
    "    collections = [\"a\", \"e\", \"i\", \"o\", \"u\"]\n",
    "    \n",
    "    for i in my_string:\n",
    "        \n",
    "        if i not in collections:\n",
    "            answer += i\n",
    "    \n",
    "    return answer"
   ]
  },
  {
   "cell_type": "code",
   "execution_count": 8,
   "id": "a34a9b15",
   "metadata": {
    "scrolled": true
   },
   "outputs": [
    {
     "data": {
      "text/plain": [
       "'nc t mt y'"
      ]
     },
     "execution_count": 8,
     "metadata": {},
     "output_type": "execute_result"
    }
   ],
   "source": [
    "my_string = \"nice to meet you\"\n",
    "solution(my_string)"
   ]
  },
  {
   "cell_type": "markdown",
   "id": "774c9808",
   "metadata": {},
   "source": [
    "## 문자열 배열 원소의 길이 구하기"
   ]
  },
  {
   "cell_type": "code",
   "execution_count": 1,
   "id": "37e322d8",
   "metadata": {},
   "outputs": [],
   "source": [
    "def solution(strlist):\n",
    "    answer = []\n",
    "    \n",
    "    for i in strlist:\n",
    "        answer.append(len(i))\n",
    "    \n",
    "    return answer"
   ]
  },
  {
   "cell_type": "code",
   "execution_count": 2,
   "id": "d5e020a3",
   "metadata": {},
   "outputs": [
    {
     "name": "stdout",
     "output_type": "stream",
     "text": [
      "[2, 3, 3, 6]\n",
      "[1, 4, 12]\n"
     ]
    }
   ],
   "source": [
    "strlists = [[\"We\", \"are\", \"the\", \"world!\"], [\"I\", \"Love\", \"Programmers.\"]]\n",
    "for strlist in strlists:\n",
    "    print(solution(strlist))"
   ]
  },
  {
   "cell_type": "markdown",
   "id": "d68f1ca7",
   "metadata": {},
   "source": [
    "## 중본된 문자 제거"
   ]
  },
  {
   "cell_type": "code",
   "execution_count": 3,
   "id": "e9049be6",
   "metadata": {},
   "outputs": [],
   "source": [
    "def solution(my_string):\n",
    "    answer = ''\n",
    "    \n",
    "    for i in my_string:\n",
    "        if i not in answer:\n",
    "            answer += i\n",
    "    \n",
    "    return answer"
   ]
  },
  {
   "cell_type": "code",
   "execution_count": 4,
   "id": "b361ea3e",
   "metadata": {},
   "outputs": [
    {
     "name": "stdout",
     "output_type": "stream",
     "text": [
      "peol\n",
      "We arthwold\n"
     ]
    }
   ],
   "source": [
    "my_strings = [\"people\", \"We are the world\"]\n",
    "for my_string in my_strings:\n",
    "    print(solution(my_string))"
   ]
  },
  {
   "cell_type": "markdown",
   "id": "dce6e8ec",
   "metadata": {},
   "source": [
    "## 3, 6, 9가 있으면 박수 치기"
   ]
  },
  {
   "cell_type": "code",
   "execution_count": 1,
   "id": "e918801a",
   "metadata": {},
   "outputs": [],
   "source": [
    "def solution(order):\n",
    "    answer = 0\n",
    "    \n",
    "    for i in str(order):\n",
    "        if i in [\"3\", \"6\", \"9\"]:\n",
    "            answer += 1\n",
    "    \n",
    "    return answer"
   ]
  },
  {
   "cell_type": "code",
   "execution_count": 2,
   "id": "d9bc69f0",
   "metadata": {
    "scrolled": true
   },
   "outputs": [
    {
     "name": "stdout",
     "output_type": "stream",
     "text": [
      "1\n",
      "2\n"
     ]
    }
   ],
   "source": [
    "orders = [3, 29423]\n",
    "for order in orders:\n",
    "    print(solution(order))"
   ]
  },
  {
   "cell_type": "markdown",
   "id": "77aae8bf",
   "metadata": {},
   "source": [
    "## 암호 해독"
   ]
  },
  {
   "cell_type": "code",
   "execution_count": 3,
   "id": "afee70bf",
   "metadata": {},
   "outputs": [],
   "source": [
    "def solution(cipher, code):\n",
    "    answer = ''\n",
    "    \n",
    "    for i in range(len(cipher)):\n",
    "        if (i+1)%code == 0:\n",
    "            answer += cipher[i]\n",
    "    \n",
    "    return answer"
   ]
  },
  {
   "cell_type": "code",
   "execution_count": 4,
   "id": "c6f8b43b",
   "metadata": {},
   "outputs": [
    {
     "name": "stdout",
     "output_type": "stream",
     "text": [
      "attack\n",
      "fallback\n"
     ]
    }
   ],
   "source": [
    "ciphers = {\"dfjardstddetckdaccccdegk\":4, \"pfqallllabwaoclk\":2}\n",
    "for key, value in ciphers.items():\n",
    "    print(solution(key, value))"
   ]
  },
  {
   "cell_type": "markdown",
   "id": "40f3d882",
   "metadata": {},
   "source": [
    "## 대문자 <-> 소문자"
   ]
  },
  {
   "cell_type": "code",
   "execution_count": 5,
   "id": "886edb37",
   "metadata": {},
   "outputs": [],
   "source": [
    "def solution(my_string):\n",
    "    answer = ''\n",
    "    \n",
    "    for i in my_string:\n",
    "        if i >= 'a' and i <= 'z':\n",
    "            answer += i.upper()\n",
    "        else:\n",
    "            answer += i.lower()\n",
    "    \n",
    "    return answer"
   ]
  },
  {
   "cell_type": "code",
   "execution_count": 6,
   "id": "c3a73487",
   "metadata": {},
   "outputs": [
    {
     "name": "stdout",
     "output_type": "stream",
     "text": [
      "CCCccc\n",
      "ABcDeFGHij\n"
     ]
    }
   ],
   "source": [
    "my_strings = [\"cccCCC\", \"abCdEfghIJ\"]\n",
    "for my_string in my_strings:\n",
    "    print(solution(my_string))"
   ]
  },
  {
   "cell_type": "markdown",
   "id": "69c3b95b",
   "metadata": {},
   "source": [
    "## 문자열 자리 바꾸기"
   ]
  },
  {
   "cell_type": "code",
   "execution_count": 10,
   "id": "3f80aa2f",
   "metadata": {},
   "outputs": [],
   "source": [
    "def solution(my_string, num1, num2):\n",
    "    answer = ''\n",
    "    \n",
    "#     for i,v in enumerate(my_string):\n",
    "#         if i != num1 and i != num2:\n",
    "#             answer += v\n",
    "#         elif i == num1:\n",
    "#             answer += my_string[num2]\n",
    "#         else:\n",
    "#             answer += my_string[num1]\n",
    "            \n",
    "    strArr = list(my_string)\n",
    "    strArr[num1], strArr[num2] = strArr[num2], strArr[num1]\n",
    "    answer = \"\".join(strArr)\n",
    "            \n",
    "    return answer"
   ]
  },
  {
   "cell_type": "code",
   "execution_count": 11,
   "id": "2f50d882",
   "metadata": {},
   "outputs": [
    {
     "data": {
      "text/plain": [
       "'hlelo'"
      ]
     },
     "execution_count": 11,
     "metadata": {},
     "output_type": "execute_result"
    }
   ],
   "source": [
    "solution(\"hello\", 1, 2)"
   ]
  },
  {
   "cell_type": "code",
   "execution_count": 12,
   "id": "fb8668b8",
   "metadata": {},
   "outputs": [
    {
     "data": {
      "text/plain": [
       "'I l veoyou'"
      ]
     },
     "execution_count": 12,
     "metadata": {},
     "output_type": "execute_result"
    }
   ],
   "source": [
    "solution(\"I love you\", 3, 6)"
   ]
  },
  {
   "cell_type": "markdown",
   "id": "6d3d2a07",
   "metadata": {},
   "source": [
    "## 한 번만 등장한 문자"
   ]
  },
  {
   "cell_type": "code",
   "execution_count": 14,
   "id": "a0c80634",
   "metadata": {},
   "outputs": [],
   "source": [
    "def solution(s):\n",
    "\n",
    "    # count() 메서드 쓰지 않았을 때\n",
    "#     idx = {}\n",
    "#     arr = []\n",
    "    \n",
    "#     for i in s:\n",
    "#         idx[i] = 0\n",
    "        \n",
    "#     for i in s:\n",
    "#         idx[i] += 1\n",
    "            \n",
    "#     for i, v in idx.items():\n",
    "#         if v == 1:\n",
    "#             arr.append(i)\n",
    "#         else:\n",
    "#             continue\n",
    "            \n",
    "#     arr.sort()\n",
    "#     answer = \"\".join(arr)\n",
    "    \n",
    "    # count() 메서드 썼을 때\n",
    "    answer = \"\".join(sorted([ch for ch in s if s.count(ch) == 1]))\n",
    "    \n",
    "    return answer"
   ]
  },
  {
   "cell_type": "code",
   "execution_count": 16,
   "id": "c4c6c3e3",
   "metadata": {},
   "outputs": [
    {
     "name": "stdout",
     "output_type": "stream",
     "text": [
      "d\n",
      "abcd\n",
      "eho\n"
     ]
    }
   ],
   "source": [
    "ss = [\"abcabcadc\", \"abdc\",\"hello\" ]\n",
    "for s in ss:\n",
    "    print(solution(s))"
   ]
  }
 ],
 "metadata": {
  "kernelspec": {
   "display_name": "Python 3 (ipykernel)",
   "language": "python",
   "name": "python3"
  },
  "language_info": {
   "codemirror_mode": {
    "name": "ipython",
    "version": 3
   },
   "file_extension": ".py",
   "mimetype": "text/x-python",
   "name": "python",
   "nbconvert_exporter": "python",
   "pygments_lexer": "ipython3",
   "version": "3.9.12"
  }
 },
 "nbformat": 4,
 "nbformat_minor": 5
}
