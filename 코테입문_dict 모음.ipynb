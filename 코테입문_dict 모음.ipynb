{
 "cells": [
  {
   "cell_type": "markdown",
   "id": "88d4d527",
   "metadata": {},
   "source": [
    "## 가위바위보 승부\n",
    "\n",
    "### 가위 2, 주먹 0, 보 5 일 때 승리하는 경우를 문자열로 반환하기"
   ]
  },
  {
   "cell_type": "code",
   "execution_count": 1,
   "id": "7b344c8a",
   "metadata": {},
   "outputs": [],
   "source": [
    "def solution(rsp):\n",
    "    answer = ''\n",
    "    \n",
    "    win = {'2':'0', '0':'5', '5':'2'}\n",
    "    \n",
    "    for i in rsp:\n",
    "        answer += win[i]\n",
    "    \n",
    "    return answer"
   ]
  },
  {
   "cell_type": "code",
   "execution_count": 2,
   "id": "368d1cfd",
   "metadata": {},
   "outputs": [
    {
     "data": {
      "text/plain": [
       "'502'"
      ]
     },
     "execution_count": 2,
     "metadata": {},
     "output_type": "execute_result"
    }
   ],
   "source": [
    "rsp = '025'\n",
    "solution(rsp)"
   ]
  },
  {
   "cell_type": "markdown",
   "id": "bf3fb457",
   "metadata": {},
   "source": [
    "## dict key, value 이용하여 모스부호 해석하기"
   ]
  },
  {
   "cell_type": "code",
   "execution_count": 3,
   "id": "2633ccd7",
   "metadata": {},
   "outputs": [],
   "source": [
    "def solution(letter):\n",
    "    answer = ''\n",
    "    \n",
    "    morse = { \n",
    "    '.-':'a','-...':'b','-.-.':'c','-..':'d','.':'e','..-.':'f',\n",
    "    '--.':'g','....':'h','..':'i','.---':'j','-.-':'k','.-..':'l',\n",
    "    '--':'m','-.':'n','---':'o','.--.':'p','--.-':'q','.-.':'r',\n",
    "    '...':'s','-':'t','..-':'u','...-':'v','.--':'w','-..-':'x',\n",
    "    '-.--':'y','--..':'z'\n",
    "    }\n",
    "    \n",
    "    letters = letter.split(\" \")\n",
    "    \n",
    "    for letter in letters:\n",
    "        answer += morse[letter]\n",
    "    \n",
    "    return answer"
   ]
  },
  {
   "cell_type": "code",
   "execution_count": 4,
   "id": "b814b680",
   "metadata": {},
   "outputs": [
    {
     "name": "stdout",
     "output_type": "stream",
     "text": [
      "hello\n",
      "python\n"
     ]
    }
   ],
   "source": [
    "letterList = [\".... . .-.. .-.. ---\", \".--. -.-- - .... --- -.\"]\n",
    "for i in letterList:\n",
    "    print(solution(i))"
   ]
  }
 ],
 "metadata": {
  "kernelspec": {
   "display_name": "Python 3 (ipykernel)",
   "language": "python",
   "name": "python3"
  },
  "language_info": {
   "codemirror_mode": {
    "name": "ipython",
    "version": 3
   },
   "file_extension": ".py",
   "mimetype": "text/x-python",
   "name": "python",
   "nbconvert_exporter": "python",
   "pygments_lexer": "ipython3",
   "version": "3.9.12"
  }
 },
 "nbformat": 4,
 "nbformat_minor": 5
}
