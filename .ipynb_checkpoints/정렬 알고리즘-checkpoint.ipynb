{
 "cells": [
  {
   "cell_type": "code",
   "execution_count": 8,
   "id": "df9d1d03",
   "metadata": {},
   "outputs": [],
   "source": [
    "# 정렬하기\n",
    "\n",
    "arr = [4, 1, 5, 7, 2, 6, 0, 3]"
   ]
  },
  {
   "cell_type": "markdown",
   "id": "d8b73961",
   "metadata": {},
   "source": [
    "## sort()\n",
    "\n",
    "### 내장함수 sort()를 이용해 정렬"
   ]
  },
  {
   "cell_type": "code",
   "execution_count": 17,
   "id": "b5cce705",
   "metadata": {},
   "outputs": [
    {
     "data": {
      "text/plain": [
       "[0, 1, 2, 3, 4, 5, 6, 7]"
      ]
     },
     "execution_count": 17,
     "metadata": {},
     "output_type": "execute_result"
    }
   ],
   "source": [
    "arrMethod = arr\n",
    "arrMethod.sort()\n",
    "arrMethod"
   ]
  },
  {
   "cell_type": "markdown",
   "id": "e73b173a",
   "metadata": {},
   "source": [
    "## Selection Sort\n",
    "\n",
    "### 배열에서 최솟값을 찾아 그 값과 맨 앞에 있는 값을 서로 바꾸는 과정을 반복한다. 이 때 다음 반복을 돌 때 맨 앞에 있는 값은 정렬이 끝난 것이므로 정렬 대상 범위에서 제외한다."
   ]
  },
  {
   "cell_type": "code",
   "execution_count": 18,
   "id": "32047458",
   "metadata": {},
   "outputs": [
    {
     "data": {
      "text/plain": [
       "[0, 1, 2, 3, 4, 5, 6, 7]"
      ]
     },
     "execution_count": 18,
     "metadata": {},
     "output_type": "execute_result"
    }
   ],
   "source": [
    "arrSelection = arr\n",
    "tmp = 0\n",
    "for i, v in enumerate(arrSelection):\n",
    "    for j in range(i+1, len(arrSelection)):\n",
    "        if arr[j] < v :\n",
    "            tmp = v\n",
    "            v = arrSelection[j]\n",
    "            arrSelection[j] = v\n",
    "            \n",
    "arrSelection            "
   ]
  },
  {
   "cell_type": "markdown",
   "id": "467071cb",
   "metadata": {},
   "source": [
    "## Bubble Sort"
   ]
  },
  {
   "cell_type": "code",
   "execution_count": 20,
   "id": "dbb52ffc",
   "metadata": {
    "scrolled": true
   },
   "outputs": [
    {
     "data": {
      "text/plain": [
       "[0, 1, 2, 3, 4, 5, 6, 7]"
      ]
     },
     "execution_count": 20,
     "metadata": {},
     "output_type": "execute_result"
    }
   ],
   "source": [
    "arrBubble = arr\n",
    "tmp = 0\n",
    "\n",
    "for i in range(len(arrBubble)):\n",
    "    for j in range(0, len(arrBubble)-i-1):\n",
    "        if arrBubble[j] > arrBubble[j+1]:\n",
    "            tmp = arrBubble[j]\n",
    "            arrBubble[j] = arrBubble[j+1]\n",
    "            arrBubble[j+1] = tmp\n",
    "            \n",
    "arrBubble"
   ]
  },
  {
   "cell_type": "markdown",
   "id": "6f7f487e",
   "metadata": {},
   "source": [
    "# Insertion Sort"
   ]
  },
  {
   "cell_type": "code",
   "execution_count": 24,
   "id": "24f7c29f",
   "metadata": {},
   "outputs": [
    {
     "data": {
      "text/plain": [
       "[0, 1, 2, 3, 4, 5, 6, 7]"
      ]
     },
     "execution_count": 24,
     "metadata": {},
     "output_type": "execute_result"
    }
   ],
   "source": [
    "arrInsrtion = arr\n",
    "tmp = 0\n",
    "\n",
    "for i in range(1, len(arrInsrtion)):\n",
    "    for j in range(i, 0, -1):\n",
    "        if arr[j-1] > arr[j]:\n",
    "            arrInsrtion[j-1], arrInsrtion[j] = arrInsrtion[j], arrInsrtion[j-1]\n",
    "            \n",
    "arrInsrtion"
   ]
  },
  {
   "cell_type": "markdown",
   "id": "0561df92",
   "metadata": {},
   "source": [
    "# Shell Sort"
   ]
  },
  {
   "cell_type": "code",
   "execution_count": 29,
   "id": "30991179",
   "metadata": {},
   "outputs": [
    {
     "data": {
      "text/plain": [
       "[0, 1, 2, 3, 4, 5, 6, 7]"
      ]
     },
     "execution_count": 29,
     "metadata": {},
     "output_type": "execute_result"
    }
   ],
   "source": [
    "arrShell = [4, 1, 5, 7, 2, 6, 0, 3]\n",
    "\n",
    "l = len(arrShell)\n",
    "interval = l//2\n",
    "\n",
    "while interval > 0:\n",
    "    for i in range(interval, l):\n",
    "        j = i - interval # 일정 간격 앞에 있는 원소의 인덱스 구하기\n",
    "        while (j >= 0) and (arr[j] > arr[i]):\n",
    "            arr[j], arr[i] = arr[i], arr[j]\n",
    "    interval //= 2\n",
    "\n",
    "arrShell # [0, 1, 2, 3, 4, 5, 6, 7]"
   ]
  },
  {
   "cell_type": "code",
   "execution_count": 26,
   "id": "c0b516e9",
   "metadata": {},
   "outputs": [
    {
     "data": {
      "text/plain": [
       "4.0"
      ]
     },
     "execution_count": 26,
     "metadata": {},
     "output_type": "execute_result"
    }
   ],
   "source": []
  },
  {
   "cell_type": "code",
   "execution_count": null,
   "id": "c5a50511",
   "metadata": {},
   "outputs": [],
   "source": []
  }
 ],
 "metadata": {
  "kernelspec": {
   "display_name": "Python 3 (ipykernel)",
   "language": "python",
   "name": "python3"
  },
  "language_info": {
   "codemirror_mode": {
    "name": "ipython",
    "version": 3
   },
   "file_extension": ".py",
   "mimetype": "text/x-python",
   "name": "python",
   "nbconvert_exporter": "python",
   "pygments_lexer": "ipython3",
   "version": "3.9.12"
  }
 },
 "nbformat": 4,
 "nbformat_minor": 5
}
