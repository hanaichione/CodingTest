{
 "cells": [
  {
   "cell_type": "markdown",
   "id": "59c179e7",
   "metadata": {},
   "source": [
    "# 소인수 분해\n",
    "\n",
    "## 2와 10,000 사이의 정수 n이 주어질 때 n의 소인수를 return 하는 solution 함수를 작성하라"
   ]
  },
  {
   "cell_type": "code",
   "execution_count": 3,
   "id": "cca443d1",
   "metadata": {},
   "outputs": [],
   "source": [
    "# def solution(n):\n",
    "#     answer = []\n",
    "#     i = 2\n",
    "    \n",
    "#     while n//i > 0:\n",
    "#         if n%i == 0:\n",
    "#             answer.append(i)\n",
    "#             n //= i\n",
    "#         else:\n",
    "#             i += 1\n",
    "    \n",
    "#     return list(set(answer))\n",
    "\n",
    "def solution(n):\n",
    "    answer = []\n",
    "    \n",
    "    for i in range(2, n+1):\n",
    "        if n%i == 0:\n",
    "            answer.append(i)\n",
    "            n //= i\n",
    "            \n",
    "    for i in answer:\n",
    "        for j in range(2, n+7):\n",
    "            if i*j in answer:\n",
    "                answer.remove(i*j)\n",
    "            \n",
    "    \n",
    "    return answer"
   ]
  },
  {
   "cell_type": "code",
   "execution_count": 4,
   "id": "d08d4814",
   "metadata": {},
   "outputs": [
    {
     "data": {
      "text/plain": [
       "[2, 3]"
      ]
     },
     "execution_count": 4,
     "metadata": {},
     "output_type": "execute_result"
    }
   ],
   "source": [
    "n = 24\n",
    "solution(n)"
   ]
  }
 ],
 "metadata": {
  "kernelspec": {
   "display_name": "Python 3 (ipykernel)",
   "language": "python",
   "name": "python3"
  },
  "language_info": {
   "codemirror_mode": {
    "name": "ipython",
    "version": 3
   },
   "file_extension": ".py",
   "mimetype": "text/x-python",
   "name": "python",
   "nbconvert_exporter": "python",
   "pygments_lexer": "ipython3",
   "version": "3.9.12"
  }
 },
 "nbformat": 4,
 "nbformat_minor": 5
}
