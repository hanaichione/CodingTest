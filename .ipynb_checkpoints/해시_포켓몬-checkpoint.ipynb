{
 "cells": [
  {
   "cell_type": "markdown",
   "id": "e450911a",
   "metadata": {},
   "source": [
    "# 포켓몬\n",
    "\n",
    "### 홍 박사님의 연구실에 있는 N 마리의 포켓몬 중 N/2 마리를 가져갈 수 있다. 종류에 따라 번호를 부여할 때, 가장 다양한 포켓몬을 가져갈 경우의 포켓몬 종류 수를 return 하는 solution 함수를 작성하라"
   ]
  },
  {
   "cell_type": "code",
   "execution_count": 5,
   "id": "55596ad2",
   "metadata": {},
   "outputs": [],
   "source": [
    "def solution(nums):\n",
    "    # 중복 제거한 포켓몬 리스트의 길이(종류의 수)와 고를 수 있는 포켓몬의 수\n",
    "    # 중에서 작은 수가 고를 수 있는 포켓몬 종류 수의 최댓값\n",
    "    answer = min(int(len(nums)/2), len(set(nums)))\n",
    "    return answer "
   ]
  },
  {
   "cell_type": "code",
   "execution_count": 6,
   "id": "50042116",
   "metadata": {},
   "outputs": [
    {
     "data": {
      "text/plain": [
       "2"
      ]
     },
     "execution_count": 6,
     "metadata": {},
     "output_type": "execute_result"
    }
   ],
   "source": [
    "nums = [3, 1, 2, 3]\n",
    "solution(nums)"
   ]
  },
  {
   "cell_type": "code",
   "execution_count": 7,
   "id": "5e2856ca",
   "metadata": {},
   "outputs": [
    {
     "data": {
      "text/plain": [
       "3"
      ]
     },
     "execution_count": 7,
     "metadata": {},
     "output_type": "execute_result"
    }
   ],
   "source": [
    "nums = [3, 3, 3, 2, 2, 4]\n",
    "solution(nums)"
   ]
  },
  {
   "cell_type": "code",
   "execution_count": 8,
   "id": "4b6f28e5",
   "metadata": {},
   "outputs": [
    {
     "data": {
      "text/plain": [
       "2"
      ]
     },
     "execution_count": 8,
     "metadata": {},
     "output_type": "execute_result"
    }
   ],
   "source": [
    "nums = [3, 3, 3, 2, 2, 2]\n",
    "solution(nums)"
   ]
  }
 ],
 "metadata": {
  "kernelspec": {
   "display_name": "Python 3 (ipykernel)",
   "language": "python",
   "name": "python3"
  },
  "language_info": {
   "codemirror_mode": {
    "name": "ipython",
    "version": 3
   },
   "file_extension": ".py",
   "mimetype": "text/x-python",
   "name": "python",
   "nbconvert_exporter": "python",
   "pygments_lexer": "ipython3",
   "version": "3.9.12"
  }
 },
 "nbformat": 4,
 "nbformat_minor": 5
}
