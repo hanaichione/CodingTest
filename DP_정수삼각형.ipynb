{
 "cells": [
  {
   "cell_type": "code",
   "execution_count": 9,
   "id": "938d73e1",
   "metadata": {},
   "outputs": [],
   "source": [
    "def solution(triangle):\n",
    "\n",
    "    n = len(triangle)\n",
    "    dp = [[]]\n",
    "    dp = [[0]*n for _ in range(n)]\n",
    "    dp[0][0] = triangle[0][0]\n",
    "    \n",
    "    for x in range(1, n):\n",
    "        for y in range(len(triangle[x])):\n",
    "            if y==0:\n",
    "                dp[x][y] = triangle[x][0] + dp[x-1][0]\n",
    "            elif x==y:\n",
    "                dp[x][y] = triangle[x][y] + dp[x-1][y-1]\n",
    "            else:\n",
    "                dp[x][y] = max(triangle[x][y] + dp[x-1][y-1], triangle[x][y] + dp[x-1][y])\n",
    "                \n",
    "    return max(dp[-1])"
   ]
  },
  {
   "cell_type": "code",
   "execution_count": 10,
   "id": "18940285",
   "metadata": {},
   "outputs": [],
   "source": [
    "triangle = [[7], [3, 8], [8, 1, 0], [2, 7, 4, 4], [4, 5, 2, 6, 5]]"
   ]
  },
  {
   "cell_type": "code",
   "execution_count": 11,
   "id": "588b63fd",
   "metadata": {},
   "outputs": [
    {
     "data": {
      "text/plain": [
       "30"
      ]
     },
     "execution_count": 11,
     "metadata": {},
     "output_type": "execute_result"
    }
   ],
   "source": [
    "solution(triangle)"
   ]
  },
  {
   "cell_type": "code",
   "execution_count": null,
   "id": "14661c0f",
   "metadata": {},
   "outputs": [],
   "source": []
  },
  {
   "cell_type": "code",
   "execution_count": null,
   "id": "98dddeb8",
   "metadata": {},
   "outputs": [],
   "source": []
  },
  {
   "cell_type": "code",
   "execution_count": null,
   "id": "0ff1958e",
   "metadata": {},
   "outputs": [],
   "source": []
  },
  {
   "cell_type": "code",
   "execution_count": null,
   "id": "ff2dede1",
   "metadata": {},
   "outputs": [],
   "source": []
  },
  {
   "cell_type": "code",
   "execution_count": null,
   "id": "3483fd7a",
   "metadata": {},
   "outputs": [],
   "source": []
  }
 ],
 "metadata": {
  "kernelspec": {
   "display_name": "Python 3 (ipykernel)",
   "language": "python",
   "name": "python3"
  },
  "language_info": {
   "codemirror_mode": {
    "name": "ipython",
    "version": 3
   },
   "file_extension": ".py",
   "mimetype": "text/x-python",
   "name": "python",
   "nbconvert_exporter": "python",
   "pygments_lexer": "ipython3",
   "version": "3.9.12"
  }
 },
 "nbformat": 4,
 "nbformat_minor": 5
}
