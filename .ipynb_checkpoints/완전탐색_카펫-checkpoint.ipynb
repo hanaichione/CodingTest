{
 "cells": [
  {
   "cell_type": "markdown",
   "id": "95007321",
   "metadata": {},
   "source": [
    "# 카펫의 크기\n",
    "### 중앙은 노란색으로, 테두리는 갈색으로 칠해져 있는 격자 모양 카펫의 노란색 격자 수, 갈색 격자 수가 주어질 때 카펫의 가로, 세로 크기를 return하도록 solution 함수를 작성하라"
   ]
  },
  {
   "cell_type": "code",
   "execution_count": 1,
   "id": "3483d598",
   "metadata": {},
   "outputs": [],
   "source": [
    "def solution(brown, yellow):\n",
    "    answer = []\n",
    "    tmp = 0\n",
    "    \n",
    "    # 가로, 세로 3 이상\n",
    "    sum = brown + yellow\n",
    "    \n",
    "    for w in range(3, sum):\n",
    "        h = int(sum/w)\n",
    "        \n",
    "        if (w-2)*(h-2)==yellow and w*h-(w-2)*(h-2)==brown:\n",
    "            if w < h:\n",
    "                tmp = w\n",
    "                w = h\n",
    "                h = tmp\n",
    "            answer.append(w)\n",
    "            answer.append(h)\n",
    "            return answer"
   ]
  },
  {
   "cell_type": "code",
   "execution_count": 2,
   "id": "709420c5",
   "metadata": {},
   "outputs": [
    {
     "data": {
      "text/plain": [
       "[4, 3]"
      ]
     },
     "execution_count": 2,
     "metadata": {},
     "output_type": "execute_result"
    }
   ],
   "source": [
    "brown, yellow = 10, 2\n",
    "solution(brown, yellow)"
   ]
  },
  {
   "cell_type": "code",
   "execution_count": 3,
   "id": "c76a9c41",
   "metadata": {},
   "outputs": [
    {
     "data": {
      "text/plain": [
       "[3, 3]"
      ]
     },
     "execution_count": 3,
     "metadata": {},
     "output_type": "execute_result"
    }
   ],
   "source": [
    "brown, yellow = 8, 1\n",
    "solution(brown, yellow)"
   ]
  },
  {
   "cell_type": "code",
   "execution_count": 4,
   "id": "77f5adb5",
   "metadata": {},
   "outputs": [
    {
     "data": {
      "text/plain": [
       "[8, 6]"
      ]
     },
     "execution_count": 4,
     "metadata": {},
     "output_type": "execute_result"
    }
   ],
   "source": [
    "brown, yellow = 24, 24\n",
    "solution(brown, yellow)"
   ]
  }
 ],
 "metadata": {
  "kernelspec": {
   "display_name": "Python 3 (ipykernel)",
   "language": "python",
   "name": "python3"
  },
  "language_info": {
   "codemirror_mode": {
    "name": "ipython",
    "version": 3
   },
   "file_extension": ".py",
   "mimetype": "text/x-python",
   "name": "python",
   "nbconvert_exporter": "python",
   "pygments_lexer": "ipython3",
   "version": "3.9.12"
  }
 },
 "nbformat": 4,
 "nbformat_minor": 5
}
