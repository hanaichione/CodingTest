{
 "cells": [
  {
   "cell_type": "markdown",
   "id": "ad0dc880",
   "metadata": {},
   "source": [
    "# 로그인 성공?\n",
    "### 회원 정보가 담긴 2차원 배열 db가 주어질 때 아이디와 비밀번호가 모두 일치하는 회원정보가 있으면 \"login\", 아이디만 일치하면 \"wrong pw\", 아이디가 일치하는 회원이 없다면 \"fail\"을 return하는 solution 함수를 완성하라"
   ]
  },
  {
   "cell_type": "code",
   "execution_count": 1,
   "id": "fc1db283",
   "metadata": {},
   "outputs": [],
   "source": [
    "def solution(id_pw, db):\n",
    "    answer = ''\n",
    "    \n",
    "    for i, user in enumerate(db):\n",
    "        if user[0] == id_pw[0] and user[1] == id_pw[1]:\n",
    "            answer = 'login'\n",
    "        elif user[0] == id_pw[0] and user[1] != id_pw[1]:\n",
    "            answer = 'wrong pw'\n",
    "        elif user[0] != id_pw[0] and user[1] != id_pw[1] :\n",
    "            answer = 'fail'\n",
    "    \n",
    "    return answer"
   ]
  },
  {
   "cell_type": "code",
   "execution_count": 2,
   "id": "fcdbdada",
   "metadata": {},
   "outputs": [
    {
     "data": {
      "text/plain": [
       "'login'"
      ]
     },
     "execution_count": 2,
     "metadata": {},
     "output_type": "execute_result"
    }
   ],
   "source": [
    "id_pw1 = [\"meosseugi\", \"1234\"]\n",
    "db1 = [[\"rardss\", \"123\"], [\"yyoom\", \"1234\"], [\"meosseugi\", \"1234\"]]\n",
    "\n",
    "solution(id_pw1, db1)"
   ]
  },
  {
   "cell_type": "code",
   "execution_count": 3,
   "id": "bba3be3c",
   "metadata": {},
   "outputs": [
    {
     "data": {
      "text/plain": [
       "'wrong pw'"
      ]
     },
     "execution_count": 3,
     "metadata": {},
     "output_type": "execute_result"
    }
   ],
   "source": [
    "id_pw2 = [\"programmer01\", \"15789\"]\n",
    "db2 = [[\"programmer02\", \"111111\"], [\"programmer00\", \"134\"], [\"programmer01\", \"1145\"]]\n",
    "\n",
    "solution(id_pw2, db2)"
   ]
  },
  {
   "cell_type": "code",
   "execution_count": 5,
   "id": "27c43b78",
   "metadata": {},
   "outputs": [
    {
     "data": {
      "text/plain": [
       "'fail'"
      ]
     },
     "execution_count": 5,
     "metadata": {},
     "output_type": "execute_result"
    }
   ],
   "source": [
    "id_pw3 = [\"rabbit04\", \"98761\"]\n",
    "db3 = [[\"jaja11\", \"98761\"], [\"krong0313\", \"29440\"], [\"rabbit00\", \"111333\"]]\n",
    "\n",
    "solution(id_pw3, db3)"
   ]
  }
 ],
 "metadata": {
  "kernelspec": {
   "display_name": "Python 3 (ipykernel)",
   "language": "python",
   "name": "python3"
  },
  "language_info": {
   "codemirror_mode": {
    "name": "ipython",
    "version": 3
   },
   "file_extension": ".py",
   "mimetype": "text/x-python",
   "name": "python",
   "nbconvert_exporter": "python",
   "pygments_lexer": "ipython3",
   "version": "3.9.12"
  }
 },
 "nbformat": 4,
 "nbformat_minor": 5
}
