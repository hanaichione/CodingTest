{
 "cells": [
  {
   "cell_type": "markdown",
   "id": "26eae33c",
   "metadata": {},
   "source": [
    "# 모의고사\n",
    "### 수포자 3명이 일정한 패턴으로 1번부터 마지막 문제까지 답을 찍을 때 가장 많이 맞히는 사람을 배열에 담아 return한다.\n",
    "### 단, 가장 높은 점수를 받은 사람이 여럿일 경우, 오름차순으로 정렬한다."
   ]
  },
  {
   "cell_type": "code",
   "execution_count": 2,
   "id": "ff6bf424",
   "metadata": {},
   "outputs": [],
   "source": [
    "def solution(answers):\n",
    "    result = []\n",
    "    \n",
    "    one = [1, 2, 3, 4, 5]\n",
    "    two = [2, 1, 2, 3, 2, 4, 2, 5]\n",
    "    three = [3, 3, 1, 1, 2, 2, 4, 4, 5, 5]\n",
    "    \n",
    "    score = [0, 0, 0]\n",
    "    \n",
    "    # 각 패턴의 길이만큼 반복하며 일치 검사\n",
    "    for i, answer in enumerate(answers):\n",
    "        if one[i%5] == answer:\n",
    "            score[0] += 1\n",
    "        if two[i%8] == answer:\n",
    "            score[1] += 1\n",
    "        if three[i%10] == answer:\n",
    "            score[2] += 1\n",
    "    \n",
    "    # 최댓값이 각 score와 일치할 경우 result에 추가\n",
    "    for i in range(len(score)):\n",
    "        if max(score) == score[i]:\n",
    "            result.append(i+1)\n",
    "        \n",
    "    return result"
   ]
  },
  {
   "cell_type": "code",
   "execution_count": 3,
   "id": "049fa73b",
   "metadata": {},
   "outputs": [
    {
     "data": {
      "text/plain": [
       "[1]"
      ]
     },
     "execution_count": 3,
     "metadata": {},
     "output_type": "execute_result"
    }
   ],
   "source": [
    "answers = [1,2,3,4,5]\n",
    "solution(answers)"
   ]
  },
  {
   "cell_type": "code",
   "execution_count": 4,
   "id": "fbc0984f",
   "metadata": {},
   "outputs": [
    {
     "data": {
      "text/plain": [
       "[1, 2, 3]"
      ]
     },
     "execution_count": 4,
     "metadata": {},
     "output_type": "execute_result"
    }
   ],
   "source": [
    "answers = [1,3,2,4,2]\n",
    "solution(answers)"
   ]
  }
 ],
 "metadata": {
  "kernelspec": {
   "display_name": "Python 3 (ipykernel)",
   "language": "python",
   "name": "python3"
  },
  "language_info": {
   "codemirror_mode": {
    "name": "ipython",
    "version": 3
   },
   "file_extension": ".py",
   "mimetype": "text/x-python",
   "name": "python",
   "nbconvert_exporter": "python",
   "pygments_lexer": "ipython3",
   "version": "3.9.12"
  }
 },
 "nbformat": 4,
 "nbformat_minor": 5
}
