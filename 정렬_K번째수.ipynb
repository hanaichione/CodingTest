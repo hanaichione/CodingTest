{
 "cells": [
  {
   "cell_type": "markdown",
   "id": "f4fa6495",
   "metadata": {},
   "source": [
    "# K번째 수\n",
    "### 배열 array의 i번째 숫자부터 j번째 숫자까지 자르고 정렬했을 때, k번째에 있는 수를 구하려 한다. 입력으로는 array와 [i, j, k]를 원소로 가지는 commands 배열이 주어진다."
   ]
  },
  {
   "cell_type": "code",
   "execution_count": 1,
   "id": "b4846c16",
   "metadata": {},
   "outputs": [],
   "source": [
    "def solution(array, commands):\n",
    "    answer = []\n",
    "    tmp = 0\n",
    "    \n",
    "    for i in commands:\n",
    "        start = i[0]-1\n",
    "        end = i[1]\n",
    "        inx = i[2]-1\n",
    "        \n",
    "        # 자른 배열\n",
    "        arr = array[start:end]\n",
    "        arr.sort()\n",
    "        \n",
    "        answer.append(arr[inx])\n",
    "    \n",
    "    return answer"
   ]
  },
  {
   "cell_type": "code",
   "execution_count": 2,
   "id": "814da213",
   "metadata": {},
   "outputs": [
    {
     "data": {
      "text/plain": [
       "[5, 6, 3]"
      ]
     },
     "execution_count": 2,
     "metadata": {},
     "output_type": "execute_result"
    }
   ],
   "source": [
    "array = [1, 5, 2, 6, 3, 7, 4]\n",
    "commands = [[2, 5, 3], [4, 4, 1], [1, 7, 3]]\n",
    "\n",
    "solution(array, commands)"
   ]
  }
 ],
 "metadata": {
  "kernelspec": {
   "display_name": "Python 3 (ipykernel)",
   "language": "python",
   "name": "python3"
  },
  "language_info": {
   "codemirror_mode": {
    "name": "ipython",
    "version": 3
   },
   "file_extension": ".py",
   "mimetype": "text/x-python",
   "name": "python",
   "nbconvert_exporter": "python",
   "pygments_lexer": "ipython3",
   "version": "3.9.12"
  }
 },
 "nbformat": 4,
 "nbformat_minor": 5
}
