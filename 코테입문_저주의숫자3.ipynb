{
 "cells": [
  {
   "cell_type": "markdown",
   "id": "4a7b1543",
   "metadata": {},
   "source": [
    "# 저주의 숫자 3\n",
    "## 3x 마을 사람들은 3을 저주의 숫자라고 생각하여 3의 배수 및 숫자 3을 사용하지 않는다. 정수 n이 매개변수로 주어질 때, 3x마을에서 사용하는 숫자로 바꿔 return하도록 solution 함수를 완성하라"
   ]
  },
  {
   "cell_type": "code",
   "execution_count": 1,
   "id": "5f0b3c2e",
   "metadata": {},
   "outputs": [],
   "source": [
    "def solution(n):\n",
    "    answer = 0\n",
    "    \n",
    "    lst = []\n",
    "    l, m = 0, 0\n",
    "    \n",
    "    while n > m:\n",
    "        l += 1\n",
    "        \n",
    "        if l%3 !=0 and '3' not in str(l):\n",
    "            lst.append(l)\n",
    "            m += 1\n",
    "            \n",
    "    answer = lst[n-1]\n",
    "    \n",
    "    return answer"
   ]
  },
  {
   "cell_type": "code",
   "execution_count": 15,
   "id": "4a8830fb",
   "metadata": {},
   "outputs": [
    {
     "name": "stdout",
     "output_type": "stream",
     "text": [
      "정수를 입력해주세요15\n",
      "3x 마을의 숫자 : 25\n",
      "\n",
      "정수를 입력해주세요40\n",
      "3x 마을의 숫자 : 76\n",
      "\n",
      "정수를 입력해주세요101\n",
      "n의 범위를 벗어났습니다.\n"
     ]
    }
   ],
   "source": [
    "while True :\n",
    "    n = int(input(\"정수를 입력해주세요\"))\n",
    "    \n",
    "    if n < 1 or n > 100:\n",
    "        print(\"n의 범위를 벗어났습니다.\")\n",
    "        break\n",
    "    \n",
    "    print(\"3x 마을의 숫자 :\", solution(n))\n",
    "    print(\"\")"
   ]
  }
 ],
 "metadata": {
  "kernelspec": {
   "display_name": "Python 3 (ipykernel)",
   "language": "python",
   "name": "python3"
  },
  "language_info": {
   "codemirror_mode": {
    "name": "ipython",
    "version": 3
   },
   "file_extension": ".py",
   "mimetype": "text/x-python",
   "name": "python",
   "nbconvert_exporter": "python",
   "pygments_lexer": "ipython3",
   "version": "3.9.12"
  }
 },
 "nbformat": 4,
 "nbformat_minor": 5
}
