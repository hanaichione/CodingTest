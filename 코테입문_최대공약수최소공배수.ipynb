{
 "cells": [
  {
   "cell_type": "markdown",
   "id": "4fe80cca",
   "metadata": {},
   "source": [
    "# 분수의 덧셈\n",
    "\n",
    "### 첫 번째 분수와 두 번째 분수를 더한 값을 기약 분수로 나타냈을 때 분자와 분모를 순서대로 담은 배열을 return 하도록 solution 함수를 완성하라"
   ]
  },
  {
   "cell_type": "code",
   "execution_count": 8,
   "id": "901a29fd",
   "metadata": {},
   "outputs": [],
   "source": [
    "def solution(denum1, num1, denum2, num2):\n",
    "    answer = []\n",
    "    \n",
    "    ja = denum1*num2 + denum2*num1\n",
    "    mo = num1*num2\n",
    "    \n",
    "    for i in range(1, max(ja, mo)+1):\n",
    "        if (ja%i==0)and(mo%i==0):\n",
    "            gcd = i\n",
    "    \n",
    "    answer = [int(ja/gcd), int(mo/gcd)]\n",
    "    \n",
    "    return answer"
   ]
  },
  {
   "cell_type": "code",
   "execution_count": 9,
   "id": "5fa4f56c",
   "metadata": {},
   "outputs": [],
   "source": [
    "denum1 = [1, 9]\n",
    "num1 = [2, 2]\n",
    "denum2 = [3, 1]\n",
    "num2 = [4, 3]"
   ]
  },
  {
   "cell_type": "code",
   "execution_count": 10,
   "id": "80ed5c03",
   "metadata": {},
   "outputs": [
    {
     "name": "stdout",
     "output_type": "stream",
     "text": [
      "[5, 4]\n",
      "[29, 6]\n"
     ]
    }
   ],
   "source": [
    "for i in range(len(denum1)):\n",
    "    answer = solution(denum1[i], num1[i], denum2[i], num2[i])\n",
    "    print(answer)"
   ]
  }
 ],
 "metadata": {
  "kernelspec": {
   "display_name": "Python 3 (ipykernel)",
   "language": "python",
   "name": "python3"
  },
  "language_info": {
   "codemirror_mode": {
    "name": "ipython",
    "version": 3
   },
   "file_extension": ".py",
   "mimetype": "text/x-python",
   "name": "python",
   "nbconvert_exporter": "python",
   "pygments_lexer": "ipython3",
   "version": "3.9.12"
  }
 },
 "nbformat": 4,
 "nbformat_minor": 5
}
