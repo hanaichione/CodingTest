{
 "cells": [
  {
   "cell_type": "markdown",
   "id": "0a3bad77",
   "metadata": {},
   "source": [
    "# 중복 숫자 제거\n",
    "\n",
    "### 배열이 주어질 때 같은 중복 숫자는 하나만 남기고 제거하되 기존 원소 순서를 유지하여 return하도록 solution 함수를 작성하라."
   ]
  },
  {
   "cell_type": "code",
   "execution_count": 4,
   "id": "07e02a4b",
   "metadata": {},
   "outputs": [],
   "source": [
    "def solution(arr):\n",
    "    stack = [arr[0]]\n",
    "    \n",
    "    for i in range(len(arr)-1):\n",
    "        if arr[i+1] == arr[i]:\n",
    "            continue\n",
    "        else :\n",
    "            stack.append(arr[i+1])\n",
    "            \n",
    "    return stack"
   ]
  },
  {
   "cell_type": "code",
   "execution_count": 5,
   "id": "d9fe483d",
   "metadata": {},
   "outputs": [
    {
     "name": "stdout",
     "output_type": "stream",
     "text": [
      "[1, 3, 0, 1]\n",
      "[4, 3]\n"
     ]
    }
   ],
   "source": [
    "arrs = [[1,1,3,3,0,1,1], [4,4,4,3,3]]\n",
    "for arr in arrs:\n",
    "    print(solution(arr))"
   ]
  }
 ],
 "metadata": {
  "kernelspec": {
   "display_name": "Python 3 (ipykernel)",
   "language": "python",
   "name": "python3"
  },
  "language_info": {
   "codemirror_mode": {
    "name": "ipython",
    "version": 3
   },
   "file_extension": ".py",
   "mimetype": "text/x-python",
   "name": "python",
   "nbconvert_exporter": "python",
   "pygments_lexer": "ipython3",
   "version": "3.9.12"
  }
 },
 "nbformat": 4,
 "nbformat_minor": 5
}
