{
 "cells": [
  {
   "cell_type": "code",
   "execution_count": 8,
   "id": "bd85cda7",
   "metadata": {},
   "outputs": [],
   "source": [
    "# 정렬하기\n",
    "\n",
    "arr = [4, 1, 5, 7, 2, 6, 0, 3]"
   ]
  },
  {
   "cell_type": "markdown",
   "id": "6c86985b",
   "metadata": {},
   "source": [
    "## sort()\n",
    "\n",
    "### 내장함수 sort()를 이용해 정렬"
   ]
  },
  {
   "cell_type": "code",
   "execution_count": 17,
   "id": "59d624f4",
   "metadata": {},
   "outputs": [
    {
     "data": {
      "text/plain": [
       "[0, 1, 2, 3, 4, 5, 6, 7]"
      ]
     },
     "execution_count": 17,
     "metadata": {},
     "output_type": "execute_result"
    }
   ],
   "source": [
    "arrMethod = arr\n",
    "arrMethod.sort()\n",
    "arrMethod"
   ]
  },
  {
   "cell_type": "markdown",
   "id": "f32f9286",
   "metadata": {},
   "source": [
    "## Selection Sort"
   ]
  },
  {
   "cell_type": "code",
   "execution_count": 18,
   "id": "5bf29d26",
   "metadata": {},
   "outputs": [
    {
     "data": {
      "text/plain": [
       "[0, 1, 2, 3, 4, 5, 6, 7]"
      ]
     },
     "execution_count": 18,
     "metadata": {},
     "output_type": "execute_result"
    }
   ],
   "source": [
    "arrSelection = arr\n",
    "tmp = 0\n",
    "for i, v in enumerate(arrSelection):\n",
    "    for j in range(i+1, len(arrSelection)):\n",
    "        if arr[j] < v :\n",
    "            tmp = v\n",
    "            v = arrSelection[j]\n",
    "            arrSelection[j] = v\n",
    "            \n",
    "arrSelection            "
   ]
  },
  {
   "cell_type": "markdown",
   "id": "04b176fc",
   "metadata": {},
   "source": [
    "## Bubble Sort"
   ]
  },
  {
   "cell_type": "code",
   "execution_count": 20,
   "id": "6da3a128",
   "metadata": {
    "scrolled": true
   },
   "outputs": [
    {
     "data": {
      "text/plain": [
       "[0, 1, 2, 3, 4, 5, 6, 7]"
      ]
     },
     "execution_count": 20,
     "metadata": {},
     "output_type": "execute_result"
    }
   ],
   "source": [
    "arrBubble = arr\n",
    "tmp = 0\n",
    "\n",
    "for i in range(len(arrBubble)):\n",
    "    for j in range(0, len(arrBubble)-i-1):\n",
    "        if arrBubble[j] > arrBubble[j+1]:\n",
    "            tmp = arrBubble[j]\n",
    "            arrBubble[j] = arrBubble[j+1]\n",
    "            arrBubble[j+1] = tmp\n",
    "            \n",
    "arrBubble"
   ]
  },
  {
   "cell_type": "markdown",
   "id": "e4ec6556",
   "metadata": {},
   "source": [
    "# Insertion Sort"
   ]
  },
  {
   "cell_type": "code",
   "execution_count": 24,
   "id": "00133879",
   "metadata": {},
   "outputs": [
    {
     "data": {
      "text/plain": [
       "[0, 1, 2, 3, 4, 5, 6, 7]"
      ]
     },
     "execution_count": 24,
     "metadata": {},
     "output_type": "execute_result"
    }
   ],
   "source": [
    "arrInsrtion = arr\n",
    "tmp = 0\n",
    "\n",
    "for i in range(1, len(arrInsrtion)):\n",
    "    for j in range(i, 0, -1):\n",
    "        if arr[j-1] > arr[j]:\n",
    "            arrInsrtion[j-1], arrInsrtion[j] = arrInsrtion[j], arrInsrtion[j-1]\n",
    "            \n",
    "arrInsrtion"
   ]
  },
  {
   "cell_type": "markdown",
   "id": "6e6bb67d",
   "metadata": {},
   "source": [
    "# Shell Sort"
   ]
  },
  {
   "cell_type": "code",
   "execution_count": 29,
   "id": "35b6179a",
   "metadata": {},
   "outputs": [
    {
     "data": {
      "text/plain": [
       "[0, 1, 2, 3, 4, 5, 6, 7]"
      ]
     },
     "execution_count": 29,
     "metadata": {},
     "output_type": "execute_result"
    }
   ],
   "source": [
    "arrShell = arr\n",
    "\n",
    "l = len(arrShell)\n",
    "interval = l//2\n",
    "\n",
    "while interval > 0:\n",
    "    for i in range(interval, l):\n",
    "        j = i - interval # 일정 간격 앞에 있는 원소의 인덱스 구하기\n",
    "        while (j >= 0) and (arr[j] > arr[i]):\n",
    "            arr[j], arr[i] = arr[i], arr[j]\n",
    "    interval //= 2\n",
    "\n",
    "arrShell # [0, 1, 2, 3, 4, 5, 6, 7]"
   ]
  },
  {
   "cell_type": "markdown",
   "id": "03f3f0d3",
   "metadata": {},
   "source": [
    "# Quick Sort"
   ]
  },
  {
   "cell_type": "code",
   "execution_count": 32,
   "id": "a42990e0",
   "metadata": {},
   "outputs": [
    {
     "data": {
      "text/plain": [
       "[0, 1, 2, 3, 4, 5, 6, 7]"
      ]
     },
     "execution_count": 32,
     "metadata": {},
     "output_type": "execute_result"
    }
   ],
   "source": [
    "arrQuick = arr\n",
    "\n",
    "def quickSort(array):\n",
    "    if len(array) <= 1:\n",
    "        return array;\n",
    "    \n",
    "    pivot, tail = array[0], array[1:]\n",
    "    \n",
    "    left = [i for i in tail if i <= pivot]\n",
    "    right = [i for i in tail if i > pivot]\n",
    "    \n",
    "    return quickSort(left) + [pivot] + quickSort(right)\n",
    "\n",
    "arrQuick = quickSort(arrQuick)\n",
    "arrQuick # [0, 1, 2, 3, 4, 5, 6, 7]"
   ]
  }
 ],
 "metadata": {
  "kernelspec": {
   "display_name": "Python 3 (ipykernel)",
   "language": "python",
   "name": "python3"
  },
  "language_info": {
   "codemirror_mode": {
    "name": "ipython",
    "version": 3
   },
   "file_extension": ".py",
   "mimetype": "text/x-python",
   "name": "python",
   "nbconvert_exporter": "python",
   "pygments_lexer": "ipython3",
   "version": "3.9.12"
  }
 },
 "nbformat": 4,
 "nbformat_minor": 5
}
