{
 "cells": [
  {
   "cell_type": "markdown",
   "id": "852126d8",
   "metadata": {},
   "source": [
    "# 올바른 괄호\n",
    "\n",
    "### '(' 문자로 열렸으면 ')' 문자로 닫히는 문자열인 경우에는 True, 아닐 경우 False를 반환하도록 solution 함수를 작성하라"
   ]
  },
  {
   "cell_type": "code",
   "execution_count": 16,
   "id": "c75105b2",
   "metadata": {},
   "outputs": [],
   "source": [
    "from collections import deque\n",
    "\n",
    "def solution(s):\n",
    "    check = 0\n",
    "    que = deque(s)\n",
    "    \n",
    "    if s[0] == \")\":\n",
    "        return False\n",
    "        \n",
    "    while(que):\n",
    "        rhkfgh = que.popleft()\n",
    "        if rhkfgh == \"(\":\n",
    "            check += 1\n",
    "        else:\n",
    "            check -= 1\n",
    "        if check < 0:\n",
    "            return False\n",
    "        \n",
    "    if check == 0:\n",
    "        return True\n",
    "    else:\n",
    "        return False"
   ]
  },
  {
   "cell_type": "code",
   "execution_count": 17,
   "id": "7413d027",
   "metadata": {},
   "outputs": [
    {
     "data": {
      "text/plain": [
       "True"
      ]
     },
     "execution_count": 17,
     "metadata": {},
     "output_type": "execute_result"
    }
   ],
   "source": [
    "s = \"()()\"\n",
    "solution(s)"
   ]
  },
  {
   "cell_type": "code",
   "execution_count": 18,
   "id": "da6dc24f",
   "metadata": {},
   "outputs": [
    {
     "name": "stdout",
     "output_type": "stream",
     "text": [
      "False\n"
     ]
    }
   ],
   "source": [
    "s = \"(()()()\"\n",
    "print(solution(s))"
   ]
  }
 ],
 "metadata": {
  "kernelspec": {
   "display_name": "Python 3 (ipykernel)",
   "language": "python",
   "name": "python3"
  },
  "language_info": {
   "codemirror_mode": {
    "name": "ipython",
    "version": 3
   },
   "file_extension": ".py",
   "mimetype": "text/x-python",
   "name": "python",
   "nbconvert_exporter": "python",
   "pygments_lexer": "ipython3",
   "version": "3.9.12"
  }
 },
 "nbformat": 4,
 "nbformat_minor": 5
}
