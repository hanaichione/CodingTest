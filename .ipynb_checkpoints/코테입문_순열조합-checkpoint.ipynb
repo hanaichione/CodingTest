{
 "cells": [
  {
   "cell_type": "markdown",
   "id": "fa5ff0b1",
   "metadata": {},
   "source": [
    "# 구슬을 나누는 경우\n",
    "\n",
    "### 모두 다르게 생긴 구슬 balls 개를 친구들에게 share개만큼 나누어 주고자 할 때 가능한 모든 경우의 수를 return하는 solution 함수를 완성하라"
   ]
  },
  {
   "cell_type": "code",
   "execution_count": 3,
   "id": "93e29288",
   "metadata": {},
   "outputs": [],
   "source": [
    "def solution(balls, share):\n",
    "    answer = 1\n",
    "    \n",
    "    # 모든 구슬을 주어야 하는 경우\n",
    "    if balls == share :\n",
    "        return answer\n",
    "    \n",
    "    # 팩토리얼 함수\n",
    "    def fact(n):\n",
    "        if n == 1:\n",
    "            return 1\n",
    "        return n*fact(n-1)\n",
    "        \n",
    "    # balls C share\n",
    "    answer = (fact(balls)/fact(balls-share))/fact(share)\n",
    "    \n",
    "    return int(answer)"
   ]
  },
  {
   "cell_type": "code",
   "execution_count": 4,
   "id": "2c56b25c",
   "metadata": {},
   "outputs": [
    {
     "data": {
      "text/plain": [
       "3"
      ]
     },
     "execution_count": 4,
     "metadata": {},
     "output_type": "execute_result"
    }
   ],
   "source": [
    "balls, share = 3, 2\n",
    "solution(balls, share)"
   ]
  },
  {
   "cell_type": "code",
   "execution_count": 5,
   "id": "488ba883",
   "metadata": {},
   "outputs": [
    {
     "data": {
      "text/plain": [
       "10"
      ]
     },
     "execution_count": 5,
     "metadata": {},
     "output_type": "execute_result"
    }
   ],
   "source": [
    "balls, share = 5, 3\n",
    "solution(balls, share)"
   ]
  },
  {
   "cell_type": "code",
   "execution_count": 6,
   "id": "95337811",
   "metadata": {},
   "outputs": [
    {
     "data": {
      "text/plain": [
       "1"
      ]
     },
     "execution_count": 6,
     "metadata": {},
     "output_type": "execute_result"
    }
   ],
   "source": [
    "balls, share = 1, 1\n",
    "solution(balls, share)"
   ]
  }
 ],
 "metadata": {
  "kernelspec": {
   "display_name": "Python 3 (ipykernel)",
   "language": "python",
   "name": "python3"
  },
  "language_info": {
   "codemirror_mode": {
    "name": "ipython",
    "version": 3
   },
   "file_extension": ".py",
   "mimetype": "text/x-python",
   "name": "python",
   "nbconvert_exporter": "python",
   "pygments_lexer": "ipython3",
   "version": "3.9.12"
  }
 },
 "nbformat": 4,
 "nbformat_minor": 5
}
