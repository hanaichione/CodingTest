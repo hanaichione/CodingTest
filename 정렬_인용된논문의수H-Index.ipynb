{
 "cells": [
  {
   "cell_type": "markdown",
   "id": "31f9ee01",
   "metadata": {},
   "source": [
    "# H-Index\n",
    "### H-Index는 과학자의 생산성과 영향력을 나타내는 지표이다. 어느 과학자의 H-Index를 나타내는 값인 h를 구하려고 한다. \n",
    "### 어떤 과학자가 발표한 논문 n편 중 h번 이상 인용된 논문이 h편 이상, 나머지 논문이 h번 이하 인용되었다면 h의 최댓값이 이 과학자의 H-Index이다.\n",
    "### 어떤 과학자가 발표한 논문의 인용 횟수를 담은 배열이 주어질 때 이 과학자의 H-Index를 return 하도록 solution 함수를 작성하라."
   ]
  },
  {
   "cell_type": "code",
   "execution_count": 1,
   "id": "1ec8d783",
   "metadata": {},
   "outputs": [],
   "source": [
    "def solution(citations):\n",
    "    \n",
    "    for i in range(max(citations), 0, -1):\n",
    "        h = 0 # i번 이상 인용된 논문의 수\n",
    "        for j in citations: # 논문 인용 수\n",
    "            if j >= i: # 논문 인용이 i번보다 많을 때\n",
    "                h += 1\n",
    "            if h == i :\n",
    "                return i\n",
    "    \n",
    "    return 0"
   ]
  },
  {
   "cell_type": "code",
   "execution_count": 4,
   "id": "6bab09aa",
   "metadata": {},
   "outputs": [
    {
     "name": "stdout",
     "output_type": "stream",
     "text": [
      "이 과학자의 H-Index는 3 입니다.\n",
      "이 과학자의 H-Index는 1 입니다.\n",
      "이 과학자의 H-Index는 0 입니다.\n"
     ]
    }
   ],
   "source": [
    "citations_set = [[3, 0, 6, 1, 5], [0, 1, 1], [0, 0, 0, 0]]\n",
    "\n",
    "for i in citations_set:\n",
    "    print(\"이 과학자의 H-Index는\", solution(i), \"입니다.\")"
   ]
  }
 ],
 "metadata": {
  "kernelspec": {
   "display_name": "Python 3 (ipykernel)",
   "language": "python",
   "name": "python3"
  },
  "language_info": {
   "codemirror_mode": {
    "name": "ipython",
    "version": 3
   },
   "file_extension": ".py",
   "mimetype": "text/x-python",
   "name": "python",
   "nbconvert_exporter": "python",
   "pygments_lexer": "ipython3",
   "version": "3.9.12"
  }
 },
 "nbformat": 4,
 "nbformat_minor": 5
}
