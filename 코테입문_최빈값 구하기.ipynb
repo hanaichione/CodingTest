{
 "cells": [
  {
   "cell_type": "markdown",
   "id": "32703b5b",
   "metadata": {},
   "source": [
    "# 최빈값 구하기\n",
    "\n",
    "### 정수 배열 array가 매개변수로 주어질 때, 최빈값을 return 하도록 solution 함수를 작성하되, 최빈값이 여러 개면 -1을 return 하도록 한다."
   ]
  },
  {
   "cell_type": "code",
   "execution_count": 1,
   "id": "9b350d53",
   "metadata": {},
   "outputs": [],
   "source": [
    "def solution(array):\n",
    "    answer = 0\n",
    "    cnt = {}\n",
    "    value = []\n",
    "    maxValue = []\n",
    "    \n",
    "    # dict key, value 추가\n",
    "    for i in set(array):\n",
    "        cnt[i] = 0\n",
    "        \n",
    "    # 각 원소의 빈도 세기\n",
    "    for i in array:\n",
    "        cnt[i] += 1\n",
    "        \n",
    "    # 리스트에 각 원소의 빈도 추가\n",
    "    for key, val in cnt.items():\n",
    "        value.append(val)\n",
    "        \n",
    "    # 최대 빈도와 동일한 key값, value를 리스트에 추가\n",
    "    for key, val in cnt.items():\n",
    "        if max(value) == val:\n",
    "            maxValue.append(key)\n",
    "            maxValue.append(val)\n",
    "    \n",
    "    # 최대 빈도가 단 하나라면 무조건 key, value 하나씩 2개이므로\n",
    "    if len(maxValue) > 2 :\n",
    "        answer = -1\n",
    "    else :\n",
    "        answer = maxValue[0]\n",
    "    \n",
    "    return answer"
   ]
  },
  {
   "cell_type": "code",
   "execution_count": 2,
   "id": "eda8b6bb",
   "metadata": {},
   "outputs": [
    {
     "data": {
      "text/plain": [
       "3"
      ]
     },
     "execution_count": 2,
     "metadata": {},
     "output_type": "execute_result"
    }
   ],
   "source": [
    "array = [1, 2, 3, 3, 3, 4]\n",
    "solution(array)"
   ]
  },
  {
   "cell_type": "code",
   "execution_count": 3,
   "id": "b12e447e",
   "metadata": {},
   "outputs": [
    {
     "data": {
      "text/plain": [
       "-1"
      ]
     },
     "execution_count": 3,
     "metadata": {},
     "output_type": "execute_result"
    }
   ],
   "source": [
    "array = [1, 1, 2, 2]\n",
    "solution(array)"
   ]
  },
  {
   "cell_type": "code",
   "execution_count": 4,
   "id": "d8ee195d",
   "metadata": {},
   "outputs": [
    {
     "data": {
      "text/plain": [
       "1"
      ]
     },
     "execution_count": 4,
     "metadata": {},
     "output_type": "execute_result"
    }
   ],
   "source": [
    "array = [1]\n",
    "solution(array)"
   ]
  }
 ],
 "metadata": {
  "kernelspec": {
   "display_name": "Python 3 (ipykernel)",
   "language": "python",
   "name": "python3"
  },
  "language_info": {
   "codemirror_mode": {
    "name": "ipython",
    "version": 3
   },
   "file_extension": ".py",
   "mimetype": "text/x-python",
   "name": "python",
   "nbconvert_exporter": "python",
   "pygments_lexer": "ipython3",
   "version": "3.9.12"
  }
 },
 "nbformat": 4,
 "nbformat_minor": 5
}
