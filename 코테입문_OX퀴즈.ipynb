{
 "cells": [
  {
   "cell_type": "markdown",
   "id": "babf011b",
   "metadata": {},
   "source": [
    "# OX퀴즤\n",
    "### 덧셈, 뺄셈 수식들이 'X [+ 혹은 -] Y = Z' 형태로 들어있는 문자열 배열 quiz가 매개변수로 주어질 때 수식이 옳다면 \"O\"를 틀리다면 \"X\"를 순서대로 담은 배열을 return하도록 solution 함수를 완성"
   ]
  },
  {
   "cell_type": "code",
   "execution_count": 3,
   "id": "32709e3a",
   "metadata": {},
   "outputs": [],
   "source": [
    "def solution(quiz):\n",
    "    answer = []\n",
    "    result = []\n",
    "    cal = 0\n",
    "    \n",
    "    for i in quiz:\n",
    "        result = i.split(\" \")\n",
    "        if result[1] == '-':\n",
    "            if int(result[0]) - int(result[2]) == int(result[-1]):\n",
    "                answer.append(\"O\")\n",
    "            else :\n",
    "                answer.append(\"X\")\n",
    "                \n",
    "        if result[1] == '+':\n",
    "            if int(result[0]) + int(result[2]) == int(result[-1]):\n",
    "                answer.append(\"O\")\n",
    "            else :\n",
    "                answer.append(\"X\")\n",
    "            \n",
    "    return answer"
   ]
  },
  {
   "cell_type": "code",
   "execution_count": 4,
   "id": "e4f2e3a0",
   "metadata": {},
   "outputs": [
    {
     "data": {
      "text/plain": [
       "['X', 'O']"
      ]
     },
     "execution_count": 4,
     "metadata": {},
     "output_type": "execute_result"
    }
   ],
   "source": [
    "quiz = [\"3 - 4 = -3\", \"5 + 6 = 11\"]\n",
    "solution(quiz)"
   ]
  },
  {
   "cell_type": "code",
   "execution_count": 5,
   "id": "bf957175",
   "metadata": {
    "scrolled": true
   },
   "outputs": [
    {
     "data": {
      "text/plain": [
       "['O', 'O', 'X', 'O']"
      ]
     },
     "execution_count": 5,
     "metadata": {},
     "output_type": "execute_result"
    }
   ],
   "source": [
    "quiz = [\"19 - 6 = 13\", \"5 + 66 = 71\", \"5 - 15 = 63\", \"3 - 1 = 2\"]\n",
    "solution(quiz)"
   ]
  }
 ],
 "metadata": {
  "kernelspec": {
   "display_name": "Python 3 (ipykernel)",
   "language": "python",
   "name": "python3"
  },
  "language_info": {
   "codemirror_mode": {
    "name": "ipython",
    "version": 3
   },
   "file_extension": ".py",
   "mimetype": "text/x-python",
   "name": "python",
   "nbconvert_exporter": "python",
   "pygments_lexer": "ipython3",
   "version": "3.9.12"
  }
 },
 "nbformat": 4,
 "nbformat_minor": 5
}
